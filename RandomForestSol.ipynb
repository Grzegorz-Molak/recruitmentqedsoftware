{
 "cells": [
  {
   "cell_type": "code",
   "execution_count": 155,
   "id": "431ad8f2",
   "metadata": {},
   "outputs": [],
   "source": [
    "import pandas as pd\n",
    "import numpy as np"
   ]
  },
  {
   "cell_type": "code",
   "execution_count": 156,
   "id": "94f46b58",
   "metadata": {},
   "outputs": [],
   "source": [
    "training = pd.read_pickle(\"onehot_train.pkl\")\n",
    "testing = pd.read_pickle(\"onehot_test.pkl\")"
   ]
  },
  {
   "cell_type": "code",
   "execution_count": 157,
   "id": "577d91fb",
   "metadata": {},
   "outputs": [],
   "source": [
    "missing_in_testing = training.columns.difference(testing.columns).tolist()"
   ]
  },
  {
   "cell_type": "code",
   "execution_count": 158,
   "id": "9e0c0120",
   "metadata": {},
   "outputs": [],
   "source": [
    "missing_in_training = testing.columns.difference(training.columns).tolist()"
   ]
  },
  {
   "cell_type": "code",
   "execution_count": 159,
   "id": "4f9a9290",
   "metadata": {},
   "outputs": [],
   "source": [
    "for column in missing_in_training:\n",
    "    training[column] = 0\n",
    "training = training[[c for c in training if c not in missing_in_training] \n",
    "                    + [c for c in missing_in_training if c in training]]"
   ]
  },
  {
   "cell_type": "code",
   "execution_count": 160,
   "id": "2023b978",
   "metadata": {},
   "outputs": [],
   "source": [
    "for column in missing_in_testing:\n",
    "    testing[column] = 0\n",
    "testing = testing[[c for c in testing if c not in missing_in_testing] \n",
    "                    + [c for c in missing_in_testing if c in testing]]"
   ]
  },
  {
   "cell_type": "code",
   "execution_count": 161,
   "id": "fcb35981",
   "metadata": {},
   "outputs": [],
   "source": [
    "testing = testing[training.columns]"
   ]
  },
  {
   "cell_type": "code",
   "execution_count": 162,
   "id": "02ed0293",
   "metadata": {},
   "outputs": [],
   "source": [
    "from sklearn.ensemble import RandomForestClassifier\n",
    "\n",
    "notified_train = training['notified']\n",
    "features_train = training.drop('notified', axis=1)"
   ]
  },
  {
   "cell_type": "code",
   "execution_count": 163,
   "id": "1e192ef6",
   "metadata": {},
   "outputs": [],
   "source": [
    "testing = testing.drop(\"notified\", axis=1);\n",
    "features_test = testing"
   ]
  },
  {
   "cell_type": "code",
   "execution_count": 164,
   "id": "7ad15176",
   "metadata": {},
   "outputs": [
    {
     "name": "stdout",
     "output_type": "stream",
     "text": [
      "<class 'pandas.core.frame.DataFrame'>\n",
      "RangeIndex: 39427 entries, 0 to 39426\n",
      "Columns: 105 entries, notified to srcipcategory_dominateBENCH\n",
      "dtypes: Sparse[float64, 0](49), float64(11), int64(45)\n",
      "memory usage: 20.0 MB\n"
     ]
    }
   ],
   "source": [
    "training.info()"
   ]
  },
  {
   "cell_type": "code",
   "execution_count": 165,
   "id": "0d3591d9",
   "metadata": {},
   "outputs": [
    {
     "name": "stdout",
     "output_type": "stream",
     "text": [
      "<class 'pandas.core.frame.DataFrame'>\n",
      "RangeIndex: 20000 entries, 0 to 19999\n",
      "Columns: 104 entries, parent_category to srcipcategory_dominateBENCH\n",
      "dtypes: Sparse[float64, 0](44), float64(11), int64(49)\n",
      "memory usage: 10.8 MB\n"
     ]
    }
   ],
   "source": [
    "testing.info()"
   ]
  },
  {
   "cell_type": "code",
   "execution_count": 166,
   "id": "fe965fe4",
   "metadata": {},
   "outputs": [
    {
     "name": "stderr",
     "output_type": "stream",
     "text": [
      "C:\\Users\\molag\\Pulpit\\cybersecurity_training\\.venv\\Lib\\site-packages\\sklearn\\utils\\validation.py:768: UserWarning: pandas.DataFrame with sparse columns found.It will be converted to a dense numpy array.\n",
      "  warnings.warn(\n"
     ]
    },
    {
     "data": {
      "text/html": [
       "<style>#sk-container-id-12 {color: black;background-color: white;}#sk-container-id-12 pre{padding: 0;}#sk-container-id-12 div.sk-toggleable {background-color: white;}#sk-container-id-12 label.sk-toggleable__label {cursor: pointer;display: block;width: 100%;margin-bottom: 0;padding: 0.3em;box-sizing: border-box;text-align: center;}#sk-container-id-12 label.sk-toggleable__label-arrow:before {content: \"▸\";float: left;margin-right: 0.25em;color: #696969;}#sk-container-id-12 label.sk-toggleable__label-arrow:hover:before {color: black;}#sk-container-id-12 div.sk-estimator:hover label.sk-toggleable__label-arrow:before {color: black;}#sk-container-id-12 div.sk-toggleable__content {max-height: 0;max-width: 0;overflow: hidden;text-align: left;background-color: #f0f8ff;}#sk-container-id-12 div.sk-toggleable__content pre {margin: 0.2em;color: black;border-radius: 0.25em;background-color: #f0f8ff;}#sk-container-id-12 input.sk-toggleable__control:checked~div.sk-toggleable__content {max-height: 200px;max-width: 100%;overflow: auto;}#sk-container-id-12 input.sk-toggleable__control:checked~label.sk-toggleable__label-arrow:before {content: \"▾\";}#sk-container-id-12 div.sk-estimator input.sk-toggleable__control:checked~label.sk-toggleable__label {background-color: #d4ebff;}#sk-container-id-12 div.sk-label input.sk-toggleable__control:checked~label.sk-toggleable__label {background-color: #d4ebff;}#sk-container-id-12 input.sk-hidden--visually {border: 0;clip: rect(1px 1px 1px 1px);clip: rect(1px, 1px, 1px, 1px);height: 1px;margin: -1px;overflow: hidden;padding: 0;position: absolute;width: 1px;}#sk-container-id-12 div.sk-estimator {font-family: monospace;background-color: #f0f8ff;border: 1px dotted black;border-radius: 0.25em;box-sizing: border-box;margin-bottom: 0.5em;}#sk-container-id-12 div.sk-estimator:hover {background-color: #d4ebff;}#sk-container-id-12 div.sk-parallel-item::after {content: \"\";width: 100%;border-bottom: 1px solid gray;flex-grow: 1;}#sk-container-id-12 div.sk-label:hover label.sk-toggleable__label {background-color: #d4ebff;}#sk-container-id-12 div.sk-serial::before {content: \"\";position: absolute;border-left: 1px solid gray;box-sizing: border-box;top: 0;bottom: 0;left: 50%;z-index: 0;}#sk-container-id-12 div.sk-serial {display: flex;flex-direction: column;align-items: center;background-color: white;padding-right: 0.2em;padding-left: 0.2em;position: relative;}#sk-container-id-12 div.sk-item {position: relative;z-index: 1;}#sk-container-id-12 div.sk-parallel {display: flex;align-items: stretch;justify-content: center;background-color: white;position: relative;}#sk-container-id-12 div.sk-item::before, #sk-container-id-12 div.sk-parallel-item::before {content: \"\";position: absolute;border-left: 1px solid gray;box-sizing: border-box;top: 0;bottom: 0;left: 50%;z-index: -1;}#sk-container-id-12 div.sk-parallel-item {display: flex;flex-direction: column;z-index: 1;position: relative;background-color: white;}#sk-container-id-12 div.sk-parallel-item:first-child::after {align-self: flex-end;width: 50%;}#sk-container-id-12 div.sk-parallel-item:last-child::after {align-self: flex-start;width: 50%;}#sk-container-id-12 div.sk-parallel-item:only-child::after {width: 0;}#sk-container-id-12 div.sk-dashed-wrapped {border: 1px dashed gray;margin: 0 0.4em 0.5em 0.4em;box-sizing: border-box;padding-bottom: 0.4em;background-color: white;}#sk-container-id-12 div.sk-label label {font-family: monospace;font-weight: bold;display: inline-block;line-height: 1.2em;}#sk-container-id-12 div.sk-label-container {text-align: center;}#sk-container-id-12 div.sk-container {/* jupyter's `normalize.less` sets `[hidden] { display: none; }` but bootstrap.min.css set `[hidden] { display: none !important; }` so we also need the `!important` here to be able to override the default hidden behavior on the sphinx rendered scikit-learn.org. See: https://github.com/scikit-learn/scikit-learn/issues/21755 */display: inline-block !important;position: relative;}#sk-container-id-12 div.sk-text-repr-fallback {display: none;}</style><div id=\"sk-container-id-12\" class=\"sk-top-container\"><div class=\"sk-text-repr-fallback\"><pre>RandomForestClassifier(max_depth=30, n_estimators=800, random_state=0)</pre><b>In a Jupyter environment, please rerun this cell to show the HTML representation or trust the notebook. <br />On GitHub, the HTML representation is unable to render, please try loading this page with nbviewer.org.</b></div><div class=\"sk-container\" hidden><div class=\"sk-item\"><div class=\"sk-estimator sk-toggleable\"><input class=\"sk-toggleable__control sk-hidden--visually\" id=\"sk-estimator-id-12\" type=\"checkbox\" checked><label for=\"sk-estimator-id-12\" class=\"sk-toggleable__label sk-toggleable__label-arrow\">RandomForestClassifier</label><div class=\"sk-toggleable__content\"><pre>RandomForestClassifier(max_depth=30, n_estimators=800, random_state=0)</pre></div></div></div></div></div>"
      ],
      "text/plain": [
       "RandomForestClassifier(max_depth=30, n_estimators=800, random_state=0)"
      ]
     },
     "execution_count": 166,
     "metadata": {},
     "output_type": "execute_result"
    }
   ],
   "source": [
    "final = RandomForestClassifier(n_estimators=800, max_depth=30, random_state=0)\n",
    "final.fit(features_train,notified_train)"
   ]
  },
  {
   "cell_type": "code",
   "execution_count": 167,
   "id": "f9e49580",
   "metadata": {},
   "outputs": [
    {
     "name": "stderr",
     "output_type": "stream",
     "text": [
      "C:\\Users\\molag\\Pulpit\\cybersecurity_training\\.venv\\Lib\\site-packages\\sklearn\\utils\\validation.py:768: UserWarning: pandas.DataFrame with sparse columns found.It will be converted to a dense numpy array.\n",
      "  warnings.warn(\n"
     ]
    }
   ],
   "source": [
    "predictions = final.predict_proba(features_test)"
   ]
  },
  {
   "cell_type": "code",
   "execution_count": 168,
   "id": "defd0647",
   "metadata": {},
   "outputs": [
    {
     "data": {
      "text/plain": [
       "array([[0.93      , 0.07      ],\n",
       "       [0.8505871 , 0.1494129 ],\n",
       "       [0.955     , 0.045     ],\n",
       "       ...,\n",
       "       [0.72343279, 0.27656721],\n",
       "       [0.785     , 0.215     ],\n",
       "       [0.86625   , 0.13375   ]])"
      ]
     },
     "execution_count": 168,
     "metadata": {},
     "output_type": "execute_result"
    }
   ],
   "source": [
    "predictions"
   ]
  },
  {
   "cell_type": "code",
   "execution_count": 169,
   "id": "9ef92643",
   "metadata": {},
   "outputs": [],
   "source": [
    "filename = 'solution_random_forests.txt'\n",
    "np.savetxt(filename, predictions[:,1], fmt=\"%2.4f\", delimiter=\",\")"
   ]
  },
  {
   "cell_type": "code",
   "execution_count": null,
   "id": "a50560d0",
   "metadata": {},
   "outputs": [],
   "source": []
  },
  {
   "cell_type": "code",
   "execution_count": null,
   "id": "8924f6d8",
   "metadata": {},
   "outputs": [],
   "source": []
  }
 ],
 "metadata": {
  "kernelspec": {
   "display_name": "Python 3 (ipykernel)",
   "language": "python",
   "name": "python3"
  },
  "language_info": {
   "codemirror_mode": {
    "name": "ipython",
    "version": 3
   },
   "file_extension": ".py",
   "mimetype": "text/x-python",
   "name": "python",
   "nbconvert_exporter": "python",
   "pygments_lexer": "ipython3",
   "version": "3.11.3"
  }
 },
 "nbformat": 4,
 "nbformat_minor": 5
}
