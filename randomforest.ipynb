{
 "cells": [
  {
   "cell_type": "code",
   "execution_count": 46,
   "id": "1eb3313b",
   "metadata": {},
   "outputs": [],
   "source": [
    "import pandas as pd\n",
    "import numpy as np"
   ]
  },
  {
   "cell_type": "code",
   "execution_count": 47,
   "id": "059bb558",
   "metadata": {},
   "outputs": [],
   "source": [
    "training = pd.read_pickle(\"onehot_train.pkl\")"
   ]
  },
  {
   "cell_type": "code",
   "execution_count": 48,
   "id": "7f7d3532",
   "metadata": {},
   "outputs": [
    {
     "data": {
      "text/html": [
       "<div>\n",
       "<style scoped>\n",
       "    .dataframe tbody tr th:only-of-type {\n",
       "        vertical-align: middle;\n",
       "    }\n",
       "\n",
       "    .dataframe tbody tr th {\n",
       "        vertical-align: top;\n",
       "    }\n",
       "\n",
       "    .dataframe thead th {\n",
       "        text-align: right;\n",
       "    }\n",
       "</style>\n",
       "<table border=\"1\" class=\"dataframe\">\n",
       "  <thead>\n",
       "    <tr style=\"text-align: right;\">\n",
       "      <th></th>\n",
       "      <th>notified</th>\n",
       "      <th>parent_category</th>\n",
       "      <th>overallseverity</th>\n",
       "      <th>timestamp_dist</th>\n",
       "      <th>start_hour</th>\n",
       "      <th>start_minute</th>\n",
       "      <th>start_second</th>\n",
       "      <th>correlatedcount</th>\n",
       "      <th>n1</th>\n",
       "      <th>n2</th>\n",
       "      <th>...</th>\n",
       "      <th>dstipcategory_dominateCURR_NET</th>\n",
       "      <th>dstipcategory_dominateLOOPBACK</th>\n",
       "      <th>dstipcategory_dominateMULTICAST</th>\n",
       "      <th>srcipcategory_dominatePRIV-192</th>\n",
       "      <th>srcipcategory_dominatePRIV-10</th>\n",
       "      <th>srcipcategory_dominateINTERNET</th>\n",
       "      <th>srcipcategory_dominatePRIV-172</th>\n",
       "      <th>srcipcategory_dominatePRIV-CGN</th>\n",
       "      <th>srcipcategory_dominateLOOPBACK</th>\n",
       "      <th>srcipcategory_dominateLINK-LOCAL</th>\n",
       "    </tr>\n",
       "  </thead>\n",
       "  <tbody>\n",
       "    <tr>\n",
       "      <th>0</th>\n",
       "      <td>0</td>\n",
       "      <td>7</td>\n",
       "      <td>3</td>\n",
       "      <td>65684</td>\n",
       "      <td>8</td>\n",
       "      <td>14</td>\n",
       "      <td>34</td>\n",
       "      <td>69</td>\n",
       "      <td>0.0</td>\n",
       "      <td>0.0</td>\n",
       "      <td>...</td>\n",
       "      <td>0.0</td>\n",
       "      <td>0.0</td>\n",
       "      <td>0.0</td>\n",
       "      <td>0.0</td>\n",
       "      <td>0.0</td>\n",
       "      <td>0.0</td>\n",
       "      <td>0.0</td>\n",
       "      <td>0.0</td>\n",
       "      <td>1.0</td>\n",
       "      <td>0.0</td>\n",
       "    </tr>\n",
       "    <tr>\n",
       "      <th>1</th>\n",
       "      <td>0</td>\n",
       "      <td>1</td>\n",
       "      <td>5</td>\n",
       "      <td>1188030</td>\n",
       "      <td>1</td>\n",
       "      <td>0</td>\n",
       "      <td>2</td>\n",
       "      <td>5302</td>\n",
       "      <td>0.0</td>\n",
       "      <td>0.0</td>\n",
       "      <td>...</td>\n",
       "      <td>0.0</td>\n",
       "      <td>0.0</td>\n",
       "      <td>0.0</td>\n",
       "      <td>0.0</td>\n",
       "      <td>0.0</td>\n",
       "      <td>0.0</td>\n",
       "      <td>0.0</td>\n",
       "      <td>0.0</td>\n",
       "      <td>1.0</td>\n",
       "      <td>0.0</td>\n",
       "    </tr>\n",
       "    <tr>\n",
       "      <th>2</th>\n",
       "      <td>0</td>\n",
       "      <td>7</td>\n",
       "      <td>4</td>\n",
       "      <td>43716</td>\n",
       "      <td>14</td>\n",
       "      <td>44</td>\n",
       "      <td>5</td>\n",
       "      <td>346</td>\n",
       "      <td>0.0</td>\n",
       "      <td>0.0</td>\n",
       "      <td>...</td>\n",
       "      <td>0.0</td>\n",
       "      <td>0.0</td>\n",
       "      <td>0.0</td>\n",
       "      <td>0.0</td>\n",
       "      <td>0.0</td>\n",
       "      <td>0.0</td>\n",
       "      <td>1.0</td>\n",
       "      <td>0.0</td>\n",
       "      <td>0.0</td>\n",
       "      <td>0.0</td>\n",
       "    </tr>\n",
       "    <tr>\n",
       "      <th>3</th>\n",
       "      <td>0</td>\n",
       "      <td>7</td>\n",
       "      <td>4</td>\n",
       "      <td>0</td>\n",
       "      <td>20</td>\n",
       "      <td>33</td>\n",
       "      <td>40</td>\n",
       "      <td>1</td>\n",
       "      <td>0.0</td>\n",
       "      <td>0.0</td>\n",
       "      <td>...</td>\n",
       "      <td>0.0</td>\n",
       "      <td>0.0</td>\n",
       "      <td>0.0</td>\n",
       "      <td>1.0</td>\n",
       "      <td>0.0</td>\n",
       "      <td>0.0</td>\n",
       "      <td>0.0</td>\n",
       "      <td>0.0</td>\n",
       "      <td>0.0</td>\n",
       "      <td>0.0</td>\n",
       "    </tr>\n",
       "    <tr>\n",
       "      <th>4</th>\n",
       "      <td>0</td>\n",
       "      <td>7</td>\n",
       "      <td>4</td>\n",
       "      <td>2401</td>\n",
       "      <td>14</td>\n",
       "      <td>36</td>\n",
       "      <td>11</td>\n",
       "      <td>1</td>\n",
       "      <td>0.0</td>\n",
       "      <td>0.0</td>\n",
       "      <td>...</td>\n",
       "      <td>0.0</td>\n",
       "      <td>0.0</td>\n",
       "      <td>0.0</td>\n",
       "      <td>0.0</td>\n",
       "      <td>0.0</td>\n",
       "      <td>0.0</td>\n",
       "      <td>1.0</td>\n",
       "      <td>0.0</td>\n",
       "      <td>0.0</td>\n",
       "      <td>0.0</td>\n",
       "    </tr>\n",
       "  </tbody>\n",
       "</table>\n",
       "<p>5 rows × 102 columns</p>\n",
       "</div>"
      ],
      "text/plain": [
       "   notified  parent_category  overallseverity  timestamp_dist  start_hour  \\\n",
       "0         0                7                3           65684           8   \n",
       "1         0                1                5         1188030           1   \n",
       "2         0                7                4           43716          14   \n",
       "3         0                7                4               0          20   \n",
       "4         0                7                4            2401          14   \n",
       "\n",
       "   start_minute  start_second  correlatedcount   n1   n2  ...  \\\n",
       "0            14            34               69  0.0  0.0  ...   \n",
       "1             0             2             5302  0.0  0.0  ...   \n",
       "2            44             5              346  0.0  0.0  ...   \n",
       "3            33            40                1  0.0  0.0  ...   \n",
       "4            36            11                1  0.0  0.0  ...   \n",
       "\n",
       "   dstipcategory_dominateCURR_NET  dstipcategory_dominateLOOPBACK  \\\n",
       "0                             0.0                             0.0   \n",
       "1                             0.0                             0.0   \n",
       "2                             0.0                             0.0   \n",
       "3                             0.0                             0.0   \n",
       "4                             0.0                             0.0   \n",
       "\n",
       "   dstipcategory_dominateMULTICAST  srcipcategory_dominatePRIV-192  \\\n",
       "0                              0.0                             0.0   \n",
       "1                              0.0                             0.0   \n",
       "2                              0.0                             0.0   \n",
       "3                              0.0                             1.0   \n",
       "4                              0.0                             0.0   \n",
       "\n",
       "   srcipcategory_dominatePRIV-10  srcipcategory_dominateINTERNET  \\\n",
       "0                            0.0                             0.0   \n",
       "1                            0.0                             0.0   \n",
       "2                            0.0                             0.0   \n",
       "3                            0.0                             0.0   \n",
       "4                            0.0                             0.0   \n",
       "\n",
       "   srcipcategory_dominatePRIV-172  srcipcategory_dominatePRIV-CGN  \\\n",
       "0                             0.0                             0.0   \n",
       "1                             0.0                             0.0   \n",
       "2                             1.0                             0.0   \n",
       "3                             0.0                             0.0   \n",
       "4                             1.0                             0.0   \n",
       "\n",
       "   srcipcategory_dominateLOOPBACK  srcipcategory_dominateLINK-LOCAL  \n",
       "0                             1.0                               0.0  \n",
       "1                             1.0                               0.0  \n",
       "2                             0.0                               0.0  \n",
       "3                             0.0                               0.0  \n",
       "4                             0.0                               0.0  \n",
       "\n",
       "[5 rows x 102 columns]"
      ]
     },
     "execution_count": 48,
     "metadata": {},
     "output_type": "execute_result"
    }
   ],
   "source": [
    "training.head()"
   ]
  },
  {
   "cell_type": "code",
   "execution_count": 49,
   "id": "53190c34",
   "metadata": {},
   "outputs": [],
   "source": [
    "from sklearn.model_selection import train_test_split\n",
    "\n",
    "notified = training['notified']\n",
    "features = training.drop('notified', axis=1)\n",
    "test_size = 0.3\n",
    "seed = 121\n",
    "\n",
    "features_train, features_test, notified_train, notified_test = train_test_split(features, notified, test_size=test_size, random_state=seed )"
   ]
  },
  {
   "cell_type": "code",
   "execution_count": 50,
   "id": "2f621db4",
   "metadata": {},
   "outputs": [],
   "source": [
    "from sklearn.ensemble import RandomForestClassifier\n",
    "clf = RandomForestClassifier(n_estimators=800, max_depth=30, random_state=0)"
   ]
  },
  {
   "cell_type": "code",
   "execution_count": 51,
   "id": "d83d81d1",
   "metadata": {},
   "outputs": [
    {
     "name": "stderr",
     "output_type": "stream",
     "text": [
      "C:\\Users\\molag\\Pulpit\\cybersecurity_training\\.venv\\Lib\\site-packages\\sklearn\\utils\\validation.py:768: UserWarning: pandas.DataFrame with sparse columns found.It will be converted to a dense numpy array.\n",
      "  warnings.warn(\n"
     ]
    }
   ],
   "source": [
    "clf = clf.fit(features_train,notified_train)"
   ]
  },
  {
   "cell_type": "code",
   "execution_count": 52,
   "id": "e51a8d92",
   "metadata": {},
   "outputs": [
    {
     "name": "stderr",
     "output_type": "stream",
     "text": [
      "C:\\Users\\molag\\Pulpit\\cybersecurity_training\\.venv\\Lib\\site-packages\\sklearn\\utils\\validation.py:768: UserWarning: pandas.DataFrame with sparse columns found.It will be converted to a dense numpy array.\n",
      "  warnings.warn(\n"
     ]
    }
   ],
   "source": [
    "predictions = clf.predict_proba(features_test)"
   ]
  },
  {
   "cell_type": "code",
   "execution_count": 53,
   "id": "880f682e",
   "metadata": {},
   "outputs": [
    {
     "data": {
      "text/plain": [
       "0.9144597238533904"
      ]
     },
     "execution_count": 53,
     "metadata": {},
     "output_type": "execute_result"
    }
   ],
   "source": [
    "from sklearn import metrics\n",
    "metrics.roc_auc_score(notified_test, predictions[:,1])"
   ]
  },
  {
   "cell_type": "code",
   "execution_count": null,
   "id": "6f15d750",
   "metadata": {},
   "outputs": [],
   "source": []
  },
  {
   "cell_type": "code",
   "execution_count": null,
   "id": "46d439ba",
   "metadata": {},
   "outputs": [],
   "source": []
  },
  {
   "cell_type": "code",
   "execution_count": null,
   "id": "f8807f2b",
   "metadata": {},
   "outputs": [],
   "source": []
  }
 ],
 "metadata": {
  "kernelspec": {
   "display_name": "Python 3 (ipykernel)",
   "language": "python",
   "name": "python3"
  },
  "language_info": {
   "codemirror_mode": {
    "name": "ipython",
    "version": 3
   },
   "file_extension": ".py",
   "mimetype": "text/x-python",
   "name": "python",
   "nbconvert_exporter": "python",
   "pygments_lexer": "ipython3",
   "version": "3.11.3"
  }
 },
 "nbformat": 4,
 "nbformat_minor": 5
}
